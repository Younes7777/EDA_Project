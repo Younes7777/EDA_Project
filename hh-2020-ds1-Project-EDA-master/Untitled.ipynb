{
 "cells": [
  {
   "cell_type": "markdown",
   "metadata": {},
   "source": [
    "# Column Names and descriptions for Kings County Data Set\n",
    "* **id** - eindeutig für ein Haus identifiziert\n",
    "* **dateDatum** - Datum des Hausverkaufs\n",
    "* **PreisPreis** - ist Prognoseziel\n",
    "* **SchlafzimmerAnzahl** - Anzahl der Schlafzimmer\n",
    "* **bathroomsNumber** - Anzahl der Badezimmer, wobei .5 für einen Raum mit einer Toilette, aber ohne Dusche steht\n",
    "* **sqft_livingsquare** - Quadratmeterzahl des inneren Wohnraums der Wohnungen\n",
    "* **sqft_lotsquare** - Quadratmeterzahl der Landfläche\n",
    "* **GeschosseGesamt** - Anzahl der Geschosse\n",
    "* **Wasserfront** - Eine Dummy-Variable, die angibt, ob die Wohnung die Wasserfront überblickt hat oder nicht\n",
    "* **view** - Ein Index von 0 bis 4, der angibt, wie gut die Aussicht auf das Grundstück war\n",
    "* **Zustand** - - Ein Index von 1 bis 5 für den Zustand der Wohnung,\n",
    "* **Grad** - Ein Index von 1 bis 13, bei dem 1-3 hinter der Konstruktion und dem Design von Gebäuden zurückbleibt, 7 ein durchschnittliches Niveau von Konstruktion und Design und 11-13 ein hohes Qualitätsniveau von Konstruktion und Design aufweisen.\n",
    "* **sqft_oben** - Die Quadratmeterzahl des inneren Wohnraums, die über dem Bodenniveau liegt\n",
    "* **sqft_basement** - Die Quadratmeterzahl des inneren Wohnraums, der sich unter dem Bodenniveau befindet\n",
    "* **yr_built** - Das Jahr, in dem das Haus ursprünglich gebaut wurde\n",
    " **yr_renovated** - Jahr, in dem das Haus renoviert wurde\n",
    "* **Postleitzahl** - Postleitzahl\n",
    "* **lat** - Breitengrad-Koordinate\n",
    "* **lang** - Längengrad-Koordinate\n",
    "* **sqft_living15** - Die Quadratmeterzahl der Wohnfläche von Innenwohnungen für die nächsten 15 Nachbarn\n",
    "* **sqft_lot15** - Die Quadratmeterzahl der Grundstücke der nächsten 15 Nachbarn\n",
    "\n",
    "\n",
    "Übersetzt mit www.DeepL.com/Translator (kostenlose Version)\n"
   ]
  },
  {
   "cell_type": "code",
   "execution_count": null,
   "metadata": {},
   "outputs": [],
   "source": []
  }
 ],
 "metadata": {
  "kernelspec": {
   "display_name": "Python 3",
   "language": "python",
   "name": "python3"
  },
  "language_info": {
   "codemirror_mode": {
    "name": "ipython",
    "version": 3
   },
   "file_extension": ".py",
   "mimetype": "text/x-python",
   "name": "python",
   "nbconvert_exporter": "python",
   "pygments_lexer": "ipython3",
   "version": "3.6.10"
  }
 },
 "nbformat": 4,
 "nbformat_minor": 4
}
