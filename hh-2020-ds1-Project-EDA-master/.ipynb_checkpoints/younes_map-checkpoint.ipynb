{
 "cells": [
  {
   "cell_type": "code",
   "execution_count": 176,
   "metadata": {},
   "outputs": [
    {
     "data": {
      "text/html": [
       "<div>\n",
       "<style scoped>\n",
       "    .dataframe tbody tr th:only-of-type {\n",
       "        vertical-align: middle;\n",
       "    }\n",
       "\n",
       "    .dataframe tbody tr th {\n",
       "        vertical-align: top;\n",
       "    }\n",
       "\n",
       "    .dataframe thead th {\n",
       "        text-align: right;\n",
       "    }\n",
       "</style>\n",
       "<table border=\"1\" class=\"dataframe\">\n",
       "  <thead>\n",
       "    <tr style=\"text-align: right;\">\n",
       "      <th></th>\n",
       "      <th>zipcode</th>\n",
       "      <th>price</th>\n",
       "    </tr>\n",
       "  </thead>\n",
       "  <tbody>\n",
       "    <tr>\n",
       "      <th>0</th>\n",
       "      <td>98001</td>\n",
       "      <td>2.811949e+05</td>\n",
       "    </tr>\n",
       "    <tr>\n",
       "      <th>1</th>\n",
       "      <td>98002</td>\n",
       "      <td>2.342840e+05</td>\n",
       "    </tr>\n",
       "    <tr>\n",
       "      <th>2</th>\n",
       "      <td>98003</td>\n",
       "      <td>2.941113e+05</td>\n",
       "    </tr>\n",
       "    <tr>\n",
       "      <th>3</th>\n",
       "      <td>98004</td>\n",
       "      <td>1.356524e+06</td>\n",
       "    </tr>\n",
       "    <tr>\n",
       "      <th>4</th>\n",
       "      <td>98005</td>\n",
       "      <td>8.102897e+05</td>\n",
       "    </tr>\n",
       "  </tbody>\n",
       "</table>\n",
       "</div>"
      ],
      "text/plain": [
       "  zipcode         price\n",
       "0   98001  2.811949e+05\n",
       "1   98002  2.342840e+05\n",
       "2   98003  2.941113e+05\n",
       "3   98004  1.356524e+06\n",
       "4   98005  8.102897e+05"
      ]
     },
     "execution_count": 176,
     "metadata": {},
     "output_type": "execute_result"
    }
   ],
   "source": [
    "import pandas as pd\n",
    "import folium\n",
    "data=pd.read_csv('King_County_House_prices_dataset.csv')\n",
    "\n",
    "#map.save('/Users/younesiferd/Desktop/data/m.html')\n",
    "state_geo='/Users/younesiferd/Desktop/data/us-zip-code-latitude-and-longitude.geojson'\n",
    "my1=data.groupby(\"zipcode\",as_index=False).mean()[['zipcode','price']]\n",
    "my1['zipcode']=my1['zipcode'].astype(str)\n",
    "my1.head()"
   ]
  },
  {
   "cell_type": "code",
   "execution_count": 177,
   "metadata": {
    "scrolled": false
   },
   "outputs": [
    {
     "name": "stderr",
     "output_type": "stream",
     "text": [
      "WARNING:fiona.ogrext:Skipping field geopoint: invalid type 3\n"
     ]
    },
    {
     "name": "stdout",
     "output_type": "stream",
     "text": [
      "<class 'pandas.core.frame.DataFrame'>\n",
      "Int64Index: 21399 entries, 0 to 21398\n",
      "Data columns (total 6 columns):\n",
      "zipcode    21399 non-null int64\n",
      "price      21399 non-null float64\n",
      "zip        21399 non-null object\n",
      "city       21399 non-null object\n",
      "long       21399 non-null float64\n",
      "lat        21399 non-null float64\n",
      "dtypes: float64(3), int64(1), object(2)\n",
      "memory usage: 1.1+ MB\n"
     ]
    }
   ],
   "source": [
    "import geopandas as gpd\n",
    "my_data= gpd.read_file(state_geo)[[\"zip\",\"city\"]]\n",
    "my=pd.merge(my1,my_data, how='left', left_on=\"zipcode\", right_on=\"zip\")\n",
    "my.dropna(inplace=True)\n",
    "my.zipcode=pd.to_numeric(my.zipcode)\n",
    "data_f=pd.merge(my,data[['zipcode','long','lat']],how='left', left_on='zipcode',right_on=\"zipcode\")\n",
    "data_f.info()\n"
   ]
  },
  {
   "cell_type": "code",
   "execution_count": 178,
   "metadata": {},
   "outputs": [
    {
     "name": "stdout",
     "output_type": "stream",
     "text": [
      "<class 'pandas.core.frame.DataFrame'>\n",
      "Int64Index: 69 entries, 0 to 69\n",
      "Data columns (total 4 columns):\n",
      "zipcode    69 non-null int64\n",
      "price      69 non-null float64\n",
      "zip        69 non-null object\n",
      "city       69 non-null object\n",
      "dtypes: float64(1), int64(1), object(2)\n",
      "memory usage: 2.7+ KB\n"
     ]
    }
   ],
   "source": [
    "my.info()"
   ]
  },
  {
   "cell_type": "code",
   "execution_count": 179,
   "metadata": {},
   "outputs": [],
   "source": [
    "#data_f.loc[116,'lat']\n",
    "#data_f.loc[116,'long']"
   ]
  },
  {
   "cell_type": "code",
   "execution_count": 180,
   "metadata": {},
   "outputs": [],
   "source": [
    "from folium.plugins import MarkerCluster\n",
    "map = folium.Map(location=[data_f.loc[116,'long'], data_f.loc[116,'lat']], default_zoom_start=10)\n",
    "map.choropleth(geo_data=\"/Users/younesiferd/Desktop/data/us-zip-code-latitude-and-longitude.geojson\",\n",
    "             data=my, # my dataset\n",
    "             columns=['zipcode', 'price'], # zip code is here for matching the geojson zipcode, sales price is the column that changes the color of zipcode areas\n",
    "             key_on='feature.properties.zip', # this path contains zipcodes in str type, this zipcodes should match with our ZIP CODE column\n",
    "             fill_color='BuPu', fill_opacity=0.7, line_opacity=0.2,\n",
    "             legend_name='price')\n",
    "map.save('/Users/younesiferd/Desktop/data/m.html')"
   ]
  },
  {
   "cell_type": "code",
   "execution_count": 164,
   "metadata": {},
   "outputs": [],
   "source": [
    "marker_cluster = MarkerCluster().add_to(map)\n"
   ]
  },
  {
   "cell_type": "code",
   "execution_count": 170,
   "metadata": {},
   "outputs": [],
   "source": [
    "for i in range(my.shape[0]):\n",
    "    folium.Marker([data_f.iloc[i]['lat'], data_f.iloc[i]['long']], popup=data_f.iloc[i]['city']).add_to(map)"
   ]
  },
  {
   "cell_type": "code",
   "execution_count": 167,
   "metadata": {},
   "outputs": [
    {
     "ename": "IndexError",
     "evalue": "tuple index out of range",
     "output_type": "error",
     "traceback": [
      "\u001b[0;31m---------------------------------------------------------------------------\u001b[0m",
      "\u001b[0;31mIndexError\u001b[0m                                Traceback (most recent call last)",
      "\u001b[0;32m<ipython-input-167-32c94faba954>\u001b[0m in \u001b[0;36m<module>\u001b[0;34m\u001b[0m\n\u001b[1;32m      4\u001b[0m     folium.Marker(location, \n\u001b[1;32m      5\u001b[0m     popup=\"\"\"\n\u001b[0;32m----> 6\u001b[0;31m     <i>price: </i> <br> <b>${}</b> <br><i>city : </i><b><br>{}</b><br>\"\"\".format(round(my['price'][i],2)),tooltip=tooltip).add_to(marker_cluster)\n\u001b[0m\u001b[1;32m      7\u001b[0m \u001b[0;31m#map.save('/Users/younesiferd/Desktop/data/m.html')\u001b[0m\u001b[0;34m\u001b[0m\u001b[0;34m\u001b[0m\u001b[0;34m\u001b[0m\u001b[0m\n",
      "\u001b[0;31mIndexError\u001b[0m: tuple index out of range"
     ]
    }
   ],
   "source": [
    "for i in range(my.shape[0]):\n",
    "    location = [data_f['lat'][i],data_f['long'][i]]\n",
    "    tooltip = \"Zipcode:{}<br> city: {}<br> Click for more\".format(data_f[\"zip\"][i], data_f['city'][i])\n",
    "    folium.Marker(location, \n",
    "    popup=\"\"\"\n",
    "    <i>price: </i> <br> <b>${}</b> <br><i>city : </i><b><br>{}</b><br>\"\"\".format(round(my['price'][i],2)),tooltip=tooltip).add_to(marker_cluster)\n",
    "#map.save('/Users/younesiferd/Desktop/data/m.html')"
   ]
  },
  {
   "cell_type": "code",
   "execution_count": 112,
   "metadata": {},
   "outputs": [],
   "source": [
    "\n",
    "map.save('/Users/younesiferd/Desktop/data/m.html')\n"
   ]
  },
  {
   "cell_type": "code",
   "execution_count": 62,
   "metadata": {},
   "outputs": [],
   "source": []
  },
  {
   "cell_type": "code",
   "execution_count": null,
   "metadata": {},
   "outputs": [],
   "source": []
  }
 ],
 "metadata": {
  "kernelspec": {
   "display_name": "Python [conda env:nf] *",
   "language": "python",
   "name": "conda-env-nf-py"
  },
  "language_info": {
   "codemirror_mode": {
    "name": "ipython",
    "version": 3
   },
   "file_extension": ".py",
   "mimetype": "text/x-python",
   "name": "python",
   "nbconvert_exporter": "python",
   "pygments_lexer": "ipython3",
   "version": "3.6.10"
  }
 },
 "nbformat": 4,
 "nbformat_minor": 4
}
